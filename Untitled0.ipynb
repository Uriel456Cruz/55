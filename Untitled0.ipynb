{
  "nbformat": 4,
  "nbformat_minor": 0,
  "metadata": {
    "colab": {
      "provenance": [],
      "authorship_tag": "ABX9TyNGOBxR/26YIDN/Dls1sCNq",
      "include_colab_link": true
    },
    "kernelspec": {
      "name": "python3",
      "display_name": "Python 3"
    },
    "language_info": {
      "name": "python"
    }
  },
  "cells": [
    {
      "cell_type": "markdown",
      "metadata": {
        "id": "view-in-github",
        "colab_type": "text"
      },
      "source": [
        "<a href=\"https://colab.research.google.com/github/Uriel456Cruz/55/blob/main/Untitled0.ipynb\" target=\"_parent\"><img src=\"https://colab.research.google.com/assets/colab-badge.svg\" alt=\"Open In Colab\"/></a>"
      ]
    },
    {
      "cell_type": "code",
      "execution_count": null,
      "metadata": {
        "id": "-fvaapruuJya"
      },
      "outputs": [],
      "source": []
    },
    {
      "cell_type": "code",
      "source": [
        "# Solicita al usuario ingresar su nombre\n",
        "\n",
        "nombre = input(\"Ingrese su nombre: \")\n",
        "\n",
        "# Imprime un mensaje utilizando la variable print(\"Hola, \"+nombre+\". ¡Bienvenido a CECYTEM Coacalco!\")\n",
        "\n",
        "# Uso de variables para calculos simples\n",
        "\n",
        "edad = int(input(\"Ingrese su edad: \"))\n",
        "\n",
        "edad_en_10_años = edad + 10\n",
        "\n",
        "# Imprime el resultado\n",
        "\n",
        "print(\"En 10 años, tendras\", edad_en_10_años, \"años.\")"
      ],
      "metadata": {
        "id": "XYpYihk2uq3v"
      },
      "execution_count": null,
      "outputs": []
    },
    {
      "cell_type": "code",
      "source": [
        "# Definicion de variables\n",
        "\n",
        "nombre = \"Panchito\"\n",
        "\n",
        "edad - 99999\n",
        "\n",
        "estatura = 2.0\n",
        "\n",
        "#Imprime Informacion utilizando las variables\n",
        "\n",
        "print(\"Nombre:\", nombre)\n",
        "\n",
        "print(\"Edad:\", edad, \"años\")\n",
        "\n",
        "print(\"Estatura:\", estatura, \"metros\")\n",
        "\n",
        "#Realiza aperaciones matematicas\n",
        "\n",
        "suma_edad_estatura = edad +estatura\n",
        "\n",
        "resta_edad_estatura = edad - estatura\n",
        "\n",
        "multiplicacion_edad_estatura = edad * estatura\n",
        "\n",
        "division_edad_estatura = edad / estatura\n",
        "\n",
        "#Imprime los resultados de las operaciones\n",
        "\n",
        "print(\"Suma de Edad y Estatura:\", suma_edad_estatura)\n",
        "print(\"Resta de Edad y Estatura:\", resta_edad_estatura)\n",
        "\n",
        "print(\"Multiplicacion de Edad y Estatura:\", multiplicacion_edad_estatura)\n",
        "\n",
        "print(\"Division de Edad y Estatura\", division_edad_estatura)"
      ],
      "metadata": {
        "id": "nsOOzLOEvnIo"
      },
      "execution_count": null,
      "outputs": []
    },
    {
      "cell_type": "code",
      "source": [
        "# Definicion de variables\n",
        "\n",
        "nombre= \"Panchito\"\n",
        "\n",
        "edad - 18\n",
        "\n",
        "estatura = 1.70\n",
        "\n",
        "#Imprime Informacion utilizando las variables\n",
        "\n",
        "print(\"Nombre:\", nombre)\n",
        "\n",
        "print(\"Edad:\", edad, \"años\")\n",
        "\n",
        "print(\"Estatura:\", estatura, \"metros\")\n",
        "\n",
        "#Realiza aperaciones matematicas\n",
        "\n",
        "suma_edad_estatura =edad + estatura\n",
        "\n",
        "resta_edad_estatura - edad- estatura\n",
        "\n",
        "multiplicacion_edad_estatura =edad *estatura\n",
        "\n",
        "division_edad_estatura =edad / estatura\n",
        "\n",
        "#Imprime los resultados de las operaciones\n",
        "\n",
        "print(\"Suma de Edad y Estatura:\", suma_edad_estatura\n",
        "print(\"Resta de Edad y Estatura:\", resta_edad_estatura)\n",
        "\n",
        "print(\"Multiplicacion de Edad y Estatura:\", multiplicacion_edad_estatura)\n",
        "\n",
        "print(\"Division de Edad y Estatura\", division_edad_estatura)"
      ],
      "metadata": {
        "id": "u7jaZal06HXR"
      },
      "execution_count": null,
      "outputs": []
    },
    {
      "cell_type": "code",
      "source": [
        "#Uso de variables para almacenar informacion\n",
        "\n",
        "pais \"Japon\"\n",
        "\n",
        "capital \"Tokio\"\n",
        "\n",
        "poblacion 122857880\n",
        "\n",
        "# Imprime informacion utilizando las variables\n",
        "\n",
        "print(\"Pais:\", pais)\n",
        "\n",
        "print(\"Capital:\", capital)\n",
        "\n",
        "print(\"Poblacion:\", poblacion)\n",
        "\n",
        "# Solicita al usuario ingresar un numero numero_ingresado float(input(\"Ingrese un numero decimal: \"))\n",
        "\n",
        "#Realiza una operacion con el numero ingresado resultado numero_ingresado 2\n",
        "\n",
        "#Imprime el resultado\n",
        "\n",
        "print(\"El doble del numero ingresado es:\", resultado)"
      ],
      "metadata": {
        "id": "CQ546Iu668qJ"
      },
      "execution_count": null,
      "outputs": []
    }
  ]
}