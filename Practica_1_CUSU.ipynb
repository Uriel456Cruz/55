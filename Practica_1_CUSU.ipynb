{
  "nbformat": 4,
  "nbformat_minor": 0,
  "metadata": {
    "colab": {
      "provenance": [],
      "authorship_tag": "ABX9TyOxrFz38NiP9CrI20+6tLdh",
      "include_colab_link": true
    },
    "kernelspec": {
      "name": "python3",
      "display_name": "Python 3"
    },
    "language_info": {
      "name": "python"
    }
  },
  "cells": [
    {
      "cell_type": "markdown",
      "metadata": {
        "id": "view-in-github",
        "colab_type": "text"
      },
      "source": [
        "<a href=\"https://colab.research.google.com/github/Uriel456Cruz/55/blob/main/Practica_1_CUSU.ipynb\" target=\"_parent\"><img src=\"https://colab.research.google.com/assets/colab-badge.svg\" alt=\"Open In Colab\"/></a>"
      ]
    },
    {
      "cell_type": "code",
      "source": [],
      "metadata": {
        "id": "5B5vMuBtAKnm"
      },
      "execution_count": null,
      "outputs": []
    },
    {
      "cell_type": "markdown",
      "source": [
        "# Sección nueva![god.jfif](data:image/jpeg;base64,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)"
      ],
      "metadata": {
        "id": "7gnM9S0D9kZ-"
      }
    },
    {
      "cell_type": "markdown",
      "source": [
        "Urielcruz"
      ],
      "metadata": {
        "id": "DGl3DvZl_pU2"
      }
    },
    {
      "cell_type": "code",
      "source": [
        "print(\"Hola soy UrielCruz\")\n",
        "print(\"Tengo 16 años y estudio programacion\")\n",
        "print(\"Quiero  estudiar la carrera de Mecanica\")"
      ],
      "metadata": {
        "colab": {
          "base_uri": "https://localhost:8080/"
        },
        "id": "LuTrPSmVBGIe",
        "outputId": "252bdfd2-4129-4f10-8b7b-cea44e08a5fe"
      },
      "execution_count": null,
      "outputs": [
        {
          "output_type": "stream",
          "name": "stdout",
          "text": [
            "Hola soy UrielCruz\n",
            "Tengo 16 años y estudio programacion\n",
            "Quiero  estudiar la carrera de Mecanica\n"
          ]
        }
      ]
    },
    {
      "cell_type": "code",
      "source": [
        "N1=5\n",
        "N2=3\n",
        "R=N1+N2\n",
        "print(\"Tu resultado es\",R)"
      ],
      "metadata": {
        "colab": {
          "base_uri": "https://localhost:8080/"
        },
        "id": "Z4K5vWYvD_0_",
        "outputId": "60b75e7a-0842-4033-a232-5ff6c8a868ad"
      },
      "execution_count": null,
      "outputs": [
        {
          "output_type": "stream",
          "name": "stdout",
          "text": [
            "Tu resultado es 8\n"
          ]
        }
      ]
    },
    {
      "cell_type": "code",
      "source": [
        "nombre=input(\"Ingrese tu npmbre\")\n",
        "print(nombre)"
      ],
      "metadata": {
        "id": "aRWj9T9FGvS_"
      },
      "execution_count": null,
      "outputs": []
    }
  ]
}